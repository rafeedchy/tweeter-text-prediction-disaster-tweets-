{
  "nbformat": 4,
  "nbformat_minor": 0,
  "metadata": {
    "colab": {
      "name": "tweeter_disaster.ipynb",
      "provenance": []
    },
    "kernelspec": {
      "name": "python3",
      "display_name": "Python 3"
    },
    "language_info": {
      "name": "python"
    }
  },
  "cells": [
    {
      "cell_type": "markdown",
      "metadata": {
        "id": "u8wnkk3JerEz"
      },
      "source": [
        "## Loading the data\n"
      ]
    },
    {
      "cell_type": "code",
      "metadata": {
        "id": "cpEDJCJXeLQd"
      },
      "source": [
        "import pandas as pd\n",
        "import numpy as np\n",
        "import nltk\n",
        "import spacy"
      ],
      "execution_count": 1,
      "outputs": []
    },
    {
      "cell_type": "code",
      "metadata": {
        "id": "x5T5178Depbs"
      },
      "source": [
        "train_df = pd.read_csv('train.csv')"
      ],
      "execution_count": 2,
      "outputs": []
    },
    {
      "cell_type": "code",
      "metadata": {
        "colab": {
          "base_uri": "https://localhost:8080/",
          "height": 206
        },
        "id": "-QoHliZke1RA",
        "outputId": "2783cedd-3ca3-48c8-c280-9ed90f2c1136"
      },
      "source": [
        "train_df.head()"
      ],
      "execution_count": 4,
      "outputs": [
        {
          "output_type": "execute_result",
          "data": {
            "text/html": [
              "<div>\n",
              "<style scoped>\n",
              "    .dataframe tbody tr th:only-of-type {\n",
              "        vertical-align: middle;\n",
              "    }\n",
              "\n",
              "    .dataframe tbody tr th {\n",
              "        vertical-align: top;\n",
              "    }\n",
              "\n",
              "    .dataframe thead th {\n",
              "        text-align: right;\n",
              "    }\n",
              "</style>\n",
              "<table border=\"1\" class=\"dataframe\">\n",
              "  <thead>\n",
              "    <tr style=\"text-align: right;\">\n",
              "      <th></th>\n",
              "      <th>id</th>\n",
              "      <th>keyword</th>\n",
              "      <th>location</th>\n",
              "      <th>text</th>\n",
              "      <th>target</th>\n",
              "    </tr>\n",
              "  </thead>\n",
              "  <tbody>\n",
              "    <tr>\n",
              "      <th>0</th>\n",
              "      <td>1</td>\n",
              "      <td>NaN</td>\n",
              "      <td>NaN</td>\n",
              "      <td>Our Deeds are the Reason of this #earthquake M...</td>\n",
              "      <td>1</td>\n",
              "    </tr>\n",
              "    <tr>\n",
              "      <th>1</th>\n",
              "      <td>4</td>\n",
              "      <td>NaN</td>\n",
              "      <td>NaN</td>\n",
              "      <td>Forest fire near La Ronge Sask. Canada</td>\n",
              "      <td>1</td>\n",
              "    </tr>\n",
              "    <tr>\n",
              "      <th>2</th>\n",
              "      <td>5</td>\n",
              "      <td>NaN</td>\n",
              "      <td>NaN</td>\n",
              "      <td>All residents asked to 'shelter in place' are ...</td>\n",
              "      <td>1</td>\n",
              "    </tr>\n",
              "    <tr>\n",
              "      <th>3</th>\n",
              "      <td>6</td>\n",
              "      <td>NaN</td>\n",
              "      <td>NaN</td>\n",
              "      <td>13,000 people receive #wildfires evacuation or...</td>\n",
              "      <td>1</td>\n",
              "    </tr>\n",
              "    <tr>\n",
              "      <th>4</th>\n",
              "      <td>7</td>\n",
              "      <td>NaN</td>\n",
              "      <td>NaN</td>\n",
              "      <td>Just got sent this photo from Ruby #Alaska as ...</td>\n",
              "      <td>1</td>\n",
              "    </tr>\n",
              "  </tbody>\n",
              "</table>\n",
              "</div>"
            ],
            "text/plain": [
              "   id keyword  ...                                               text target\n",
              "0   1     NaN  ...  Our Deeds are the Reason of this #earthquake M...      1\n",
              "1   4     NaN  ...             Forest fire near La Ronge Sask. Canada      1\n",
              "2   5     NaN  ...  All residents asked to 'shelter in place' are ...      1\n",
              "3   6     NaN  ...  13,000 people receive #wildfires evacuation or...      1\n",
              "4   7     NaN  ...  Just got sent this photo from Ruby #Alaska as ...      1\n",
              "\n",
              "[5 rows x 5 columns]"
            ]
          },
          "metadata": {
            "tags": []
          },
          "execution_count": 4
        }
      ]
    },
    {
      "cell_type": "code",
      "metadata": {
        "colab": {
          "base_uri": "https://localhost:8080/"
        },
        "id": "-PyvDTSwe3Ad",
        "outputId": "b6b00eb1-c693-45da-d3c3-6bb357f30d16"
      },
      "source": [
        "train_df.info()"
      ],
      "execution_count": 5,
      "outputs": [
        {
          "output_type": "stream",
          "text": [
            "<class 'pandas.core.frame.DataFrame'>\n",
            "RangeIndex: 7613 entries, 0 to 7612\n",
            "Data columns (total 5 columns):\n",
            " #   Column    Non-Null Count  Dtype \n",
            "---  ------    --------------  ----- \n",
            " 0   id        7613 non-null   int64 \n",
            " 1   keyword   7552 non-null   object\n",
            " 2   location  5080 non-null   object\n",
            " 3   text      7613 non-null   object\n",
            " 4   target    7613 non-null   int64 \n",
            "dtypes: int64(2), object(3)\n",
            "memory usage: 297.5+ KB\n"
          ],
          "name": "stdout"
        }
      ]
    },
    {
      "cell_type": "code",
      "metadata": {
        "colab": {
          "base_uri": "https://localhost:8080/"
        },
        "id": "wM2yMnJne_1q",
        "outputId": "bbce5bed-0253-4eeb-8613-3e9eb88daec1"
      },
      "source": [
        "len(train_df)"
      ],
      "execution_count": 6,
      "outputs": [
        {
          "output_type": "execute_result",
          "data": {
            "text/plain": [
              "7613"
            ]
          },
          "metadata": {
            "tags": []
          },
          "execution_count": 6
        }
      ]
    },
    {
      "cell_type": "code",
      "metadata": {
        "id": "yG5nBkYgfDmf"
      },
      "source": [
        "df = train_df[['id', 'text', 'target']]"
      ],
      "execution_count": 7,
      "outputs": []
    },
    {
      "cell_type": "code",
      "metadata": {
        "colab": {
          "base_uri": "https://localhost:8080/"
        },
        "id": "vk6GxBIsfTHJ",
        "outputId": "44863e05-f911-4c17-e421-d4623566ff18"
      },
      "source": [
        "df.target.value_counts()"
      ],
      "execution_count": 8,
      "outputs": [
        {
          "output_type": "execute_result",
          "data": {
            "text/plain": [
              "0    4342\n",
              "1    3271\n",
              "Name: target, dtype: int64"
            ]
          },
          "metadata": {
            "tags": []
          },
          "execution_count": 8
        }
      ]
    },
    {
      "cell_type": "code",
      "metadata": {
        "colab": {
          "base_uri": "https://localhost:8080/",
          "height": 265
        },
        "id": "JQv5fpUufWmv",
        "outputId": "b2f8e4f3-e37d-4357-c5d9-47094eb9d5ff"
      },
      "source": [
        "import matplotlib.pyplot as plt\n",
        "import seaborn as sns\n",
        "\n",
        "sns.set_style(\"whitegrid\")\n",
        "\n",
        "sns.barplot(x=['Normal','Disaster'], y= df.target.value_counts().values)\n",
        "plt.show()"
      ],
      "execution_count": 9,
      "outputs": [
        {
          "output_type": "display_data",
          "data": {
            "image/png": "[encoded data removed]",
            "text/plain": [
              "<Figure size 432x288 with 1 Axes>"
            ]
          },
          "metadata": {
            "tags": []
          }
        }
      ]
    },
    {
      "cell_type": "markdown",
      "metadata": {
        "id": "vVZ1zLfgfeeD"
      },
      "source": [
        "## Cleaning data"
      ]
    },
    {
      "cell_type": "code",
      "metadata": {
        "id": "8-x3EJDtfux6"
      },
      "source": [
        "import warnings\n",
        "warnings.filterwarnings(action='ignore')"
      ],
      "execution_count": 11,
      "outputs": []
    },
    {
      "cell_type": "code",
      "metadata": {
        "colab": {
          "base_uri": "https://localhost:8080/"
        },
        "id": "_CHYtLbkfa1x",
        "outputId": "f8c2371c-9936-48c7-bf4c-6ed67492ab59"
      },
      "source": [
        "# dropping all dublicate data\n",
        "l = len(df)\n",
        "df.drop_duplicates(subset='text', inplace=True)\n",
        "print(\"Total Duplicates \", l - len(df))"
      ],
      "execution_count": 12,
      "outputs": [
        {
          "output_type": "stream",
          "text": [
            "Total Duplicates  0\n"
          ],
          "name": "stdout"
        }
      ]
    },
    {
      "cell_type": "code",
      "metadata": {
        "colab": {
          "base_uri": "https://localhost:8080/"
        },
        "id": "inLmJ7usfnpv",
        "outputId": "26dd0636-4072-4986-9b72-87f2d0913b42"
      },
      "source": [
        "# Dropping nan values\n",
        "\n",
        "null_rows = df['text'][df['text'].isna()]\n",
        "null_rows"
      ],
      "execution_count": 13,
      "outputs": [
        {
          "output_type": "execute_result",
          "data": {
            "text/plain": [
              "Series([], Name: text, dtype: object)"
            ]
          },
          "metadata": {
            "tags": []
          },
          "execution_count": 13
        }
      ]
    },
    {
      "cell_type": "markdown",
      "metadata": {
        "id": "MpkYl4uAgBmL"
      },
      "source": [
        "## Text processing\n",
        "\n",
        "\n",
        "*   Removing mentions with @\n",
        "*   removing symbols\n",
        "\n",
        "*   lowercase words\n",
        "\n",
        "\n",
        "\n"
      ]
    },
    {
      "cell_type": "code",
      "metadata": {
        "id": "X4vqbyJSf7Fi"
      },
      "source": [
        "import re"
      ],
      "execution_count": 14,
      "outputs": []
    },
    {
      "cell_type": "code",
      "metadata": {
        "id": "Mhsi-9otgZlh"
      },
      "source": [
        "def clean_text(text):\n",
        "    te = str(text).encode('ascii','ignore').decode('UTF-8')\n",
        "    te = re.sub(r'@[\\w]+', '', te)\n",
        "    te = re.sub(r'https?://t.co/[\\w]+', '', te)\n",
        "    te = re.sub(r'#', '', te)\n",
        "    te = re.sub(r\"RT @[\\w]+:\",'',te)\n",
        "    te = re.sub(r\"RT @[\\w]+:\",'',te)\n",
        "    te = re.sub(r\" RT \",'',te)\n",
        "    te = re.sub(r\"https://[\\w]+.[\\w]+/[\\w]+\",'',te)\n",
        "    te = re.sub(r\"[][]\",'',te)\n",
        "    te = re.sub(r\"&amp\",\"and\", te)\n",
        "    # remove the characters [\\], ['] and [\"]\n",
        "    text = re.sub(r\"\\\\\", \"\", te)    \n",
        "    text = re.sub(r\"\\'\", \"\", text)    \n",
        "    text = re.sub(r\"\\\"\", \"\", text)    \n",
        "    \n",
        "    # convert text to lowercase\n",
        "    text = text.strip().lower()\n",
        "    \n",
        "    # replace punctuation characters with spaces\n",
        "    filters='!\"\\'#$%&()*+,-./:;<=>?@[\\\\]^_`{|}~\\t\\n'\n",
        "    translate_dict = dict((c, \" \") for c in filters)\n",
        "    translate_map = str.maketrans(translate_dict)\n",
        "    text = text.translate(translate_map)\n",
        "\n",
        "    return text"
      ],
      "execution_count": 15,
      "outputs": []
    },
    {
      "cell_type": "markdown",
      "metadata": {
        "id": "h8u0m_hQgxRu"
      },
      "source": [
        "## Vectorization from text to neumerical data \n"
      ]
    },
    {
      "cell_type": "code",
      "metadata": {
        "id": "ve6Qoz9WgrVM"
      },
      "source": [
        "from sklearn.feature_extraction.text import TfidfVectorizer"
      ],
      "execution_count": 16,
      "outputs": []
    },
    {
      "cell_type": "code",
      "metadata": {
        "id": "68V-YwJAg5fw"
      },
      "source": [
        "vectorizer = TfidfVectorizer(stop_words=\"english\",\n",
        "                             preprocessor=clean_text,\n",
        "                             ngram_range=(1, 2))\n",
        "\n",
        "training_features = vectorizer.fit_transform(df.text)"
      ],
      "execution_count": 17,
      "outputs": []
    },
    {
      "cell_type": "markdown",
      "metadata": {
        "id": "UsoNj6EqhFdw"
      },
      "source": [
        "## Creating model, training and evaluation"
      ]
    },
    {
      "cell_type": "code",
      "metadata": {
        "id": "GtIGXfjWhDHE"
      },
      "source": [
        "from sklearn.svm import LinearSVC\n",
        "from sklearn.naive_bayes import BernoulliNB, MultinomialNB\n",
        "from sklearn.linear_model import LogisticRegression\n",
        "from sklearn.pipeline import Pipeline\n",
        "from sklearn.metrics import precision_score, recall_score, make_scorer, f1_score, accuracy_score\n",
        "from sklearn.model_selection import KFold, cross_val_score"
      ],
      "execution_count": 18,
      "outputs": []
    },
    {
      "cell_type": "code",
      "metadata": {
        "id": "f8ij8cIrhkI4"
      },
      "source": [
        "est = []\n",
        "est.append(('LogisticRegression', Pipeline([('LR', LogisticRegression())])))\n",
        "est.append(('BernoulliNB', Pipeline([('BNB', BernoulliNB())])))\n",
        "est.append(('MultinomialNB', Pipeline([('MNB', MultinomialNB())])))\n",
        "est.append(('LinearSVC', Pipeline([('LNB', LinearSVC())])))"
      ],
      "execution_count": 19,
      "outputs": []
    },
    {
      "cell_type": "code",
      "metadata": {
        "id": "6G-UlKyjhmxG"
      },
      "source": [
        "# Training\n",
        "model_scores = {}\n",
        "\n",
        "p_scorer = make_scorer(precision_score)\n",
        "r_scorer = make_scorer(recall_score)\n",
        "f1_scorer = make_scorer(f1_score)\n",
        "a_scorer = make_scorer(accuracy_score)\n",
        "\n",
        "for i in est:\n",
        "    kfold = KFold(n_splits=7, shuffle=True, random_state=4)\n",
        "    p_scores = cross_val_score(i[1], training_features, df.target, cv=kfold, scoring=p_scorer)\n",
        "    r_scores = cross_val_score(i[1], training_features, df.target, cv=kfold, scoring=r_scorer)\n",
        "    f1_scores = cross_val_score(i[1], training_features, df.target, cv=kfold, scoring=f1_scorer)\n",
        "    a_scores = cross_val_score(i[1], training_features, df.target, cv=kfold, scoring=a_scorer)\n",
        "    \n",
        "    model_scores.update({ i[0]:{'accuracy': a_scores.mean(), 'f1_score':f1_scores.mean(), 'precision': p_scores.mean(), 'recall':r_scores.mean()} })"
      ],
      "execution_count": 20,
      "outputs": []
    },
    {
      "cell_type": "code",
      "metadata": {
        "colab": {
          "base_uri": "https://localhost:8080/"
        },
        "id": "dSM1hK4BiBi0",
        "outputId": "d52d8424-e812-4038-bb98-5564c007135a"
      },
      "source": [
        "for i in model_scores:\n",
        "    print('\\n', i)\n",
        "    print('\\n', model_scores[i])"
      ],
      "execution_count": 21,
      "outputs": [
        {
          "output_type": "stream",
          "text": [
            "\n",
            " LogisticRegression\n",
            "\n",
            " {'accuracy': 0.7867510188154864, 'f1_score': 0.6913762678935791, 'precision': 0.9020825163884113, 'recall': 0.5611933646051182}\n",
            "\n",
            " BernoulliNB\n",
            "\n",
            " {'accuracy': 0.7823546085100707, 'f1_score': 0.6822734634350262, 'precision': 0.902549048840556, 'recall': 0.5491051718786335}\n",
            "\n",
            " MultinomialNB\n",
            "\n",
            " {'accuracy': 0.7990159994345997, 'f1_score': 0.7262441928404598, 'precision': 0.8653905380791863, 'recall': 0.6262223895962482}\n",
            "\n",
            " LinearSVC\n",
            "\n",
            " {'accuracy': 0.8016792537910687, 'f1_score': 0.7393408699826887, 'precision': 0.8411023438498465, 'recall': 0.6600685722663211}\n"
          ],
          "name": "stdout"
        }
      ]
    },
    {
      "cell_type": "code",
      "metadata": {
        "colab": {
          "base_uri": "https://localhost:8080/"
        },
        "id": "BaMMrAyOiKi9",
        "outputId": "4575b927-6379-4e8b-8ed7-5f56fa4cbe53"
      },
      "source": [
        "top_models_score = sorted(model_scores.items(), key=lambda k:k[1]['f1_score'], reverse=True)\n",
        "top_models_score[0]"
      ],
      "execution_count": 22,
      "outputs": [
        {
          "output_type": "execute_result",
          "data": {
            "text/plain": [
              "('LinearSVC',\n",
              " {'accuracy': 0.8016792537910687,\n",
              "  'f1_score': 0.7393408699826887,\n",
              "  'precision': 0.8411023438498465,\n",
              "  'recall': 0.6600685722663211})"
            ]
          },
          "metadata": {
            "tags": []
          },
          "execution_count": 22
        }
      ]
    },
    {
      "cell_type": "code",
      "metadata": {
        "colab": {
          "base_uri": "https://localhost:8080/"
        },
        "id": "oHMduZGgjM7M",
        "outputId": "8c2dcfba-76a0-4762-f0c8-12fb1cb69295"
      },
      "source": [
        "top_model = dict(est)[top_models_score[0][0]]\n",
        "top_model.fit(training_features, df.target)"
      ],
      "execution_count": 25,
      "outputs": [
        {
          "output_type": "execute_result",
          "data": {
            "text/plain": [
              "Pipeline(memory=None,\n",
              "         steps=[('LNB',\n",
              "                 LinearSVC(C=1.0, class_weight=None, dual=True,\n",
              "                           fit_intercept=True, intercept_scaling=1,\n",
              "                           loss='squared_hinge', max_iter=1000,\n",
              "                           multi_class='ovr', penalty='l2', random_state=None,\n",
              "                           tol=0.0001, verbose=0))],\n",
              "         verbose=False)"
            ]
          },
          "metadata": {
            "tags": []
          },
          "execution_count": 25
        }
      ]
    },
    {
      "cell_type": "markdown",
      "metadata": {
        "id": "8euoCP8pij0t"
      },
      "source": [
        "### So the top model that we could see based on f1 score is Linear SVC, We will work with this model"
      ]
    },
    {
      "cell_type": "markdown",
      "metadata": {
        "id": "Wt1vXIF2ix3d"
      },
      "source": [
        "## Prediction from test dataset"
      ]
    },
    {
      "cell_type": "code",
      "metadata": {
        "colab": {
          "base_uri": "https://localhost:8080/",
          "height": 206
        },
        "id": "9ifn18syid7T",
        "outputId": "ef09fc01-c02e-4f19-8f39-b2d1fb690037"
      },
      "source": [
        "test_df = pd.read_csv('test.csv')\n",
        "test_df.head()"
      ],
      "execution_count": 23,
      "outputs": [
        {
          "output_type": "execute_result",
          "data": {
            "text/html": [
              "<div>\n",
              "<style scoped>\n",
              "    .dataframe tbody tr th:only-of-type {\n",
              "        vertical-align: middle;\n",
              "    }\n",
              "\n",
              "    .dataframe tbody tr th {\n",
              "        vertical-align: top;\n",
              "    }\n",
              "\n",
              "    .dataframe thead th {\n",
              "        text-align: right;\n",
              "    }\n",
              "</style>\n",
              "<table border=\"1\" class=\"dataframe\">\n",
              "  <thead>\n",
              "    <tr style=\"text-align: right;\">\n",
              "      <th></th>\n",
              "      <th>id</th>\n",
              "      <th>keyword</th>\n",
              "      <th>location</th>\n",
              "      <th>text</th>\n",
              "    </tr>\n",
              "  </thead>\n",
              "  <tbody>\n",
              "    <tr>\n",
              "      <th>0</th>\n",
              "      <td>0</td>\n",
              "      <td>NaN</td>\n",
              "      <td>NaN</td>\n",
              "      <td>Just happened a terrible car crash</td>\n",
              "    </tr>\n",
              "    <tr>\n",
              "      <th>1</th>\n",
              "      <td>2</td>\n",
              "      <td>NaN</td>\n",
              "      <td>NaN</td>\n",
              "      <td>Heard about #earthquake is different cities, s...</td>\n",
              "    </tr>\n",
              "    <tr>\n",
              "      <th>2</th>\n",
              "      <td>3</td>\n",
              "      <td>NaN</td>\n",
              "      <td>NaN</td>\n",
              "      <td>there is a forest fire at spot pond, geese are...</td>\n",
              "    </tr>\n",
              "    <tr>\n",
              "      <th>3</th>\n",
              "      <td>9</td>\n",
              "      <td>NaN</td>\n",
              "      <td>NaN</td>\n",
              "      <td>Apocalypse lighting. #Spokane #wildfires</td>\n",
              "    </tr>\n",
              "    <tr>\n",
              "      <th>4</th>\n",
              "      <td>11</td>\n",
              "      <td>NaN</td>\n",
              "      <td>NaN</td>\n",
              "      <td>Typhoon Soudelor kills 28 in China and Taiwan</td>\n",
              "    </tr>\n",
              "  </tbody>\n",
              "</table>\n",
              "</div>"
            ],
            "text/plain": [
              "   id keyword location                                               text\n",
              "0   0     NaN      NaN                 Just happened a terrible car crash\n",
              "1   2     NaN      NaN  Heard about #earthquake is different cities, s...\n",
              "2   3     NaN      NaN  there is a forest fire at spot pond, geese are...\n",
              "3   9     NaN      NaN           Apocalypse lighting. #Spokane #wildfires\n",
              "4  11     NaN      NaN      Typhoon Soudelor kills 28 in China and Taiwan"
            ]
          },
          "metadata": {
            "tags": []
          },
          "execution_count": 23
        }
      ]
    },
    {
      "cell_type": "code",
      "metadata": {
        "id": "fcov-Muri9NK"
      },
      "source": [
        "# Vectorization of text of test dataset and using the best performing f1 score model\n",
        "test_features = vectorizer.transform(test_df.text)\n",
        "predictions = top_model.predict(test_features)"
      ],
      "execution_count": 26,
      "outputs": []
    },
    {
      "cell_type": "code",
      "metadata": {
        "id": "7DQ0ANupjHWG"
      },
      "source": [
        "#the predicted score into a new dataframe\n",
        "res = pd.DataFrame(columns=['id', 'text', 'prediction'])\n",
        "res['id'] = test_df['id']\n",
        "res['text'] = test_df['text']\n",
        "res['prediction'] = predictions\n"
      ],
      "execution_count": 27,
      "outputs": []
    },
    {
      "cell_type": "code",
      "metadata": {
        "colab": {
          "base_uri": "https://localhost:8080/",
          "height": 363
        },
        "id": "nfdCy-rcj8sl",
        "outputId": "3faeb5b3-0c18-498f-892c-0726aa0f2a55"
      },
      "source": [
        "res.sample(10)"
      ],
      "execution_count": 29,
      "outputs": [
        {
          "output_type": "execute_result",
          "data": {
            "text/html": [
              "<div>\n",
              "<style scoped>\n",
              "    .dataframe tbody tr th:only-of-type {\n",
              "        vertical-align: middle;\n",
              "    }\n",
              "\n",
              "    .dataframe tbody tr th {\n",
              "        vertical-align: top;\n",
              "    }\n",
              "\n",
              "    .dataframe thead th {\n",
              "        text-align: right;\n",
              "    }\n",
              "</style>\n",
              "<table border=\"1\" class=\"dataframe\">\n",
              "  <thead>\n",
              "    <tr style=\"text-align: right;\">\n",
              "      <th></th>\n",
              "      <th>id</th>\n",
              "      <th>text</th>\n",
              "      <th>prediction</th>\n",
              "    </tr>\n",
              "  </thead>\n",
              "  <tbody>\n",
              "    <tr>\n",
              "      <th>932</th>\n",
              "      <td>3076</td>\n",
              "      <td>HEALTH FACT: Women account for 39% of smoking ...</td>\n",
              "      <td>1</td>\n",
              "    </tr>\n",
              "    <tr>\n",
              "      <th>623</th>\n",
              "      <td>2030</td>\n",
              "      <td>Warfighting Robots Could Reduce Civilian Casua...</td>\n",
              "      <td>1</td>\n",
              "    </tr>\n",
              "    <tr>\n",
              "      <th>1801</th>\n",
              "      <td>6081</td>\n",
              "      <td>Good morning. Slept about 6 hours. The heat wa...</td>\n",
              "      <td>1</td>\n",
              "    </tr>\n",
              "    <tr>\n",
              "      <th>1690</th>\n",
              "      <td>5709</td>\n",
              "      <td>Bengal floods: CM Mamata Banerjee blames DVC B...</td>\n",
              "      <td>1</td>\n",
              "    </tr>\n",
              "    <tr>\n",
              "      <th>3174</th>\n",
              "      <td>10530</td>\n",
              "      <td>Rocky Fire #cali #SCFD #wildfire #LakeCounty h...</td>\n",
              "      <td>1</td>\n",
              "    </tr>\n",
              "    <tr>\n",
              "      <th>182</th>\n",
              "      <td>593</td>\n",
              "      <td>#LGBTQ News ?? Owner of Chicago-Area Gay Bar A...</td>\n",
              "      <td>0</td>\n",
              "    </tr>\n",
              "    <tr>\n",
              "      <th>582</th>\n",
              "      <td>1894</td>\n",
              "      <td>Peddle to the floorboard.. End up in a four do...</td>\n",
              "      <td>0</td>\n",
              "    </tr>\n",
              "    <tr>\n",
              "      <th>469</th>\n",
              "      <td>1528</td>\n",
              "      <td>Womens Flower Printed Shoulder Handbags Cross ...</td>\n",
              "      <td>0</td>\n",
              "    </tr>\n",
              "    <tr>\n",
              "      <th>3118</th>\n",
              "      <td>10328</td>\n",
              "      <td>@sindy642498 \\nI'm really glad to hear thatÛ_...</td>\n",
              "      <td>0</td>\n",
              "    </tr>\n",
              "    <tr>\n",
              "      <th>523</th>\n",
              "      <td>1713</td>\n",
              "      <td>Australia's Ashes disaster - how the collapse ...</td>\n",
              "      <td>1</td>\n",
              "    </tr>\n",
              "  </tbody>\n",
              "</table>\n",
              "</div>"
            ],
            "text/plain": [
              "         id                                               text  prediction\n",
              "932    3076  HEALTH FACT: Women account for 39% of smoking ...           1\n",
              "623    2030  Warfighting Robots Could Reduce Civilian Casua...           1\n",
              "1801   6081  Good morning. Slept about 6 hours. The heat wa...           1\n",
              "1690   5709  Bengal floods: CM Mamata Banerjee blames DVC B...           1\n",
              "3174  10530  Rocky Fire #cali #SCFD #wildfire #LakeCounty h...           1\n",
              "182     593  #LGBTQ News ?? Owner of Chicago-Area Gay Bar A...           0\n",
              "582    1894  Peddle to the floorboard.. End up in a four do...           0\n",
              "469    1528  Womens Flower Printed Shoulder Handbags Cross ...           0\n",
              "3118  10328  @sindy642498 \\nI'm really glad to hear thatÛ_...           0\n",
              "523    1713  Australia's Ashes disaster - how the collapse ...           1"
            ]
          },
          "metadata": {
            "tags": []
          },
          "execution_count": 29
        }
      ]
    },
    {
      "cell_type": "code",
      "metadata": {
        "id": "QIoTJZv_kAPi"
      },
      "source": [
        ""
      ],
      "execution_count": null,
      "outputs": []
    }
  ]
}